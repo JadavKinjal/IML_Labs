{
 "cells": [
  {
   "cell_type": "code",
   "execution_count": 1,
   "id": "fa724ff9",
   "metadata": {
    "_cell_guid": "b1076dfc-b9ad-4769-8c92-a6c4dae69d19",
    "_uuid": "8f2839f25d086af736a60e9eeb907d3b93b6e0e5",
    "execution": {
     "iopub.execute_input": "2023-11-05T19:32:53.437104Z",
     "iopub.status.busy": "2023-11-05T19:32:53.436758Z",
     "iopub.status.idle": "2023-11-05T19:32:54.889196Z",
     "shell.execute_reply": "2023-11-05T19:32:54.888262Z"
    },
    "papermill": {
     "duration": 1.458347,
     "end_time": "2023-11-05T19:32:54.891763",
     "exception": false,
     "start_time": "2023-11-05T19:32:53.433416",
     "status": "completed"
    },
    "tags": []
   },
   "outputs": [
    {
     "name": "stdout",
     "output_type": "stream",
     "text": [
      "Accuracy of the K-NN classifier with k={k}: {accuracy * 100:.2f}%\n"
     ]
    }
   ],
   "source": [
    "\n",
    "#Name:jadav kinjal\n",
    "#Enrollment No:216270307091\n",
    "# Write a Python program to implement K-Nearest Neighbour supervised machine\n",
    "# learning algorithm for given dataset.\n",
    "from sklearn import datasets                              \n",
    "from sklearn.model_selection import train_test_split\n",
    "from sklearn.neighbors import KNeighborsClassifier\n",
    "from sklearn.metrics import accuracy_score\n",
    "iris = datasets.load_iris()\n",
    "a = iris.data \n",
    "b = iris.target \n",
    "a_train, a_test, b_train, b_test = train_test_split(a, b, test_size=0.2, random_state=42)\n",
    "k = 3 \n",
    "knn_classifier = KNeighborsClassifier(n_neighbors=k)\n",
    "knn_classifier.fit(a_train, b_train)\n",
    "b_pred = knn_classifier.predict(a_test)\n",
    "accuracy = accuracy_score(b_test, b_pred)\n",
    "print(\"Accuracy of the K-NN classifier with k={k}: {accuracy * 100:.2f}%\")"
   ]
  }
 ],
 "metadata": {
  "kernelspec": {
   "display_name": "Python 3",
   "language": "python",
   "name": "python3"
  },
  "language_info": {
   "codemirror_mode": {
    "name": "ipython",
    "version": 3
   },
   "file_extension": ".py",
   "mimetype": "text/x-python",
   "name": "python",
   "nbconvert_exporter": "python",
   "pygments_lexer": "ipython3",
   "version": "3.10.12"
  },
  "papermill": {
   "default_parameters": {},
   "duration": 4.405382,
   "end_time": "2023-11-05T19:32:55.210546",
   "environment_variables": {},
   "exception": null,
   "input_path": "__notebook__.ipynb",
   "output_path": "__notebook__.ipynb",
   "parameters": {},
   "start_time": "2023-11-05T19:32:50.805164",
   "version": "2.4.0"
  }
 },
 "nbformat": 4,
 "nbformat_minor": 5
}
