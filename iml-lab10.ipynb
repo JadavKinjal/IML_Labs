{
 "cells": [
  {
   "cell_type": "code",
   "execution_count": 1,
   "id": "9d667dac",
   "metadata": {
    "_cell_guid": "b1076dfc-b9ad-4769-8c92-a6c4dae69d19",
    "_uuid": "8f2839f25d086af736a60e9eeb907d3b93b6e0e5",
    "execution": {
     "iopub.execute_input": "2023-10-06T07:35:48.848284Z",
     "iopub.status.busy": "2023-10-06T07:35:48.847914Z",
     "iopub.status.idle": "2023-10-06T07:35:49.272724Z",
     "shell.execute_reply": "2023-10-06T07:35:49.271457Z"
    },
    "papermill": {
     "duration": 0.432637,
     "end_time": "2023-10-06T07:35:49.276455",
     "exception": false,
     "start_time": "2023-10-06T07:35:48.843818",
     "status": "completed"
    },
    "tags": []
   },
   "outputs": [
    {
     "name": "stdout",
     "output_type": "stream",
     "text": [
      "World alcohol consumption sample data:\n",
      "         Date         Open         High          Low        Close  \\\n",
      "0  2020-04-01  1122.000000  1129.689941  1097.449951  1105.619995   \n",
      "1  2020-04-02  1098.260010  1126.859985  1096.400024  1120.839966   \n",
      "2  2020-04-03  1119.015015  1123.540039  1079.810059  1097.880005   \n",
      "3  2020-04-06  1138.000000  1194.660034  1130.939941  1186.920044   \n",
      "4  2020-04-07  1221.000000  1225.000000  1182.229980  1186.510010   \n",
      "\n",
      "     Adj Close   Volume  \n",
      "0  1105.619995  2343100  \n",
      "1  1120.839966  1964900  \n",
      "2  1097.880005  2313400  \n",
      "3  1186.920044  2664700  \n",
      "4  1186.510010  2387300  \n",
      "\n",
      "Missing values:\n",
      "      Date   Open   High    Low  Close  Adj Close  Volume\n",
      "0    False  False  False  False  False      False   False\n",
      "1    False  False  False  False  False      False   False\n",
      "2    False  False  False  False  False      False   False\n",
      "3    False  False  False  False  False      False   False\n",
      "4    False  False  False  False  False      False   False\n",
      "..     ...    ...    ...    ...    ...        ...     ...\n",
      "122  False  False  False  False  False      False   False\n",
      "123  False  False  False  False  False      False   False\n",
      "124  False  False  False  False  False      False   False\n",
      "125  False  False  False  False  False      False   False\n",
      "126  False  False  False  False  False      False   False\n",
      "\n",
      "[127 rows x 7 columns]\n",
      "\n",
      "Dropping the missing values:\n",
      "           Date         Open         High          Low        Close  \\\n",
      "0    2020-04-01  1122.000000  1129.689941  1097.449951  1105.619995   \n",
      "1    2020-04-02  1098.260010  1126.859985  1096.400024  1120.839966   \n",
      "2    2020-04-03  1119.015015  1123.540039  1079.810059  1097.880005   \n",
      "3    2020-04-06  1138.000000  1194.660034  1130.939941  1186.920044   \n",
      "4    2020-04-07  1221.000000  1225.000000  1182.229980  1186.510010   \n",
      "..          ...          ...          ...          ...          ...   \n",
      "122  2020-09-24  1411.030029  1443.708984  1409.849976  1428.290039   \n",
      "123  2020-09-25  1432.630005  1450.000000  1413.339966  1444.959961   \n",
      "124  2020-09-28  1474.209961  1476.800049  1449.301025  1464.520020   \n",
      "125  2020-09-29  1470.390015  1476.662964  1458.805054  1469.329956   \n",
      "126  2020-09-30  1466.800049  1489.750000  1459.880005  1469.599976   \n",
      "\n",
      "       Adj Close   Volume  \n",
      "0    1105.619995  2343100  \n",
      "1    1120.839966  1964900  \n",
      "2    1097.880005  2313400  \n",
      "3    1186.920044  2664700  \n",
      "4    1186.510010  2387300  \n",
      "..           ...      ...  \n",
      "122  1428.290039  1450200  \n",
      "123  1444.959961  1323000  \n",
      "124  1464.520020  2007900  \n",
      "125  1469.329956   978200  \n",
      "126  1469.599976  1700600  \n",
      "\n",
      "[127 rows x 7 columns]\n"
     ]
    }
   ],
   "source": [
    "# to find and drop the missing values from the given dataset\n",
    "import pandas as pd\n",
    "w_a_con = pd.read_csv(r'/kaggle/input/lab-data/practical_8_data.csv')\n",
    "print(\"World alcohol consumption sample data:\")\n",
    "print(w_a_con.head())\n",
    "print(\"\\nMissing values:\")\n",
    "print(w_a_con.isnull())\n",
    "print(\"\\nDropping the missing values:\")\n",
    "print(w_a_con.dropna())"
   ]
  },
  {
   "cell_type": "code",
   "execution_count": 2,
   "id": "b4503ada",
   "metadata": {
    "execution": {
     "iopub.execute_input": "2023-10-06T07:35:49.285926Z",
     "iopub.status.busy": "2023-10-06T07:35:49.285314Z",
     "iopub.status.idle": "2023-10-06T07:35:49.305833Z",
     "shell.execute_reply": "2023-10-06T07:35:49.304407Z"
    },
    "papermill": {
     "duration": 0.029857,
     "end_time": "2023-10-06T07:35:49.308709",
     "exception": false,
     "start_time": "2023-10-06T07:35:49.278852",
     "status": "completed"
    },
    "tags": []
   },
   "outputs": [
    {
     "name": "stdout",
     "output_type": "stream",
     "text": [
      "     name  age\n",
      "0  Kinjal   91\n",
      "1  Dhruvi   90\n",
      "2     jal   82\n",
      "3   Mahek   80\n",
      "\n",
      "     name  age\n",
      "0  Kinjal   91\n",
      "1  Dhruvi   90\n",
      "2     jal   82\n",
      "3   Mahek   80\n"
     ]
    }
   ],
   "source": [
    "# Write a Pandas program to implement following operation\n",
    "# to remove the duplicates from the given dataset\n",
    "\n",
    "import pandas as pd\n",
    "data = { \"name\": [\"Kinjal\", \"Dhruvi\", \"jal\", \"Mahek\"], \"age\": [91, 90, 82,80] }\n",
    "\n",
    "df = pd.DataFrame(data)\n",
    "newdf = df.drop_duplicates()\n",
    "print(df)\n",
    "print()\n",
    "print(newdf)"
   ]
  }
 ],
 "metadata": {
  "kernelspec": {
   "display_name": "Python 3",
   "language": "python",
   "name": "python3"
  },
  "language_info": {
   "codemirror_mode": {
    "name": "ipython",
    "version": 3
   },
   "file_extension": ".py",
   "mimetype": "text/x-python",
   "name": "python",
   "nbconvert_exporter": "python",
   "pygments_lexer": "ipython3",
   "version": "3.10.12"
  },
  "papermill": {
   "default_parameters": {},
   "duration": 4.326949,
   "end_time": "2023-10-06T07:35:49.934474",
   "environment_variables": {},
   "exception": null,
   "input_path": "__notebook__.ipynb",
   "output_path": "__notebook__.ipynb",
   "parameters": {},
   "start_time": "2023-10-06T07:35:45.607525",
   "version": "2.4.0"
  }
 },
 "nbformat": 4,
 "nbformat_minor": 5
}
