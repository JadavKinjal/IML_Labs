{
 "cells": [
  {
   "cell_type": "code",
   "execution_count": 1,
   "id": "23a524a5",
   "metadata": {
    "_cell_guid": "b1076dfc-b9ad-4769-8c92-a6c4dae69d19",
    "_uuid": "8f2839f25d086af736a60e9eeb907d3b93b6e0e5",
    "execution": {
     "iopub.execute_input": "2023-11-05T19:29:25.846155Z",
     "iopub.status.busy": "2023-11-05T19:29:25.845382Z",
     "iopub.status.idle": "2023-11-05T19:29:26.344115Z",
     "shell.execute_reply": "2023-11-05T19:29:26.341189Z"
    },
    "papermill": {
     "duration": 0.506507,
     "end_time": "2023-11-05T19:29:26.347022",
     "exception": false,
     "start_time": "2023-11-05T19:29:25.840515",
     "status": "completed"
    },
    "tags": []
   },
   "outputs": [
    {
     "name": "stdout",
     "output_type": "stream",
     "text": [
      "\n",
      "Keys of Stock dataset:\n",
      "Index(['Date', 'Open', 'High', 'Low', 'Close', 'Adj Close', 'Volume'], dtype='object')\n",
      "\n",
      "Number of rows and columns of Stock dataset:\n",
      "(127, 7)\n"
     ]
    }
   ],
   "source": [
    "#Write a Python program using Scikit-learn to print the keys, number of rows-columns, feature names and the description of the given data.\n",
    "\n",
    "# Write a Python program using Scikit-learn to print the keys, number of rowscolumns, \n",
    "# feature names and the description of the given data.\n",
    "\n",
    "import pandas as pd\n",
    "iris_data = pd.read_csv(\"/kaggle/input/alphabet-stock-data-csv/alphabet_stock_data.csv\")\n",
    "print(\"\\nKeys of Stock dataset:\")\n",
    "print(iris_data.keys())\n",
    "print(\"\\nNumber of rows and columns of Stock dataset:\")\n",
    "print(iris_data.shape)\n"
   ]
  }
 ],
 "metadata": {
  "kernelspec": {
   "display_name": "Python 3",
   "language": "python",
   "name": "python3"
  },
  "language_info": {
   "codemirror_mode": {
    "name": "ipython",
    "version": 3
   },
   "file_extension": ".py",
   "mimetype": "text/x-python",
   "name": "python",
   "nbconvert_exporter": "python",
   "pygments_lexer": "ipython3",
   "version": "3.10.12"
  },
  "papermill": {
   "default_parameters": {},
   "duration": 4.776902,
   "end_time": "2023-11-05T19:29:27.075745",
   "environment_variables": {},
   "exception": null,
   "input_path": "__notebook__.ipynb",
   "output_path": "__notebook__.ipynb",
   "parameters": {},
   "start_time": "2023-11-05T19:29:22.298843",
   "version": "2.4.0"
  }
 },
 "nbformat": 4,
 "nbformat_minor": 5
}
