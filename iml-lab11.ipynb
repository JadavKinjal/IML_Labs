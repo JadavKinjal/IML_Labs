{
 "cells": [
  {
   "cell_type": "code",
   "execution_count": 1,
   "id": "8ca5c6cf",
   "metadata": {
    "_cell_guid": "b1076dfc-b9ad-4769-8c92-a6c4dae69d19",
    "_uuid": "8f2839f25d086af736a60e9eeb907d3b93b6e0e5",
    "execution": {
     "iopub.execute_input": "2023-10-06T07:48:43.764516Z",
     "iopub.status.busy": "2023-10-06T07:48:43.763315Z",
     "iopub.status.idle": "2023-10-06T07:48:44.292920Z",
     "shell.execute_reply": "2023-10-06T07:48:44.291605Z"
    },
    "papermill": {
     "duration": 0.539231,
     "end_time": "2023-10-06T07:48:44.296332",
     "exception": false,
     "start_time": "2023-10-06T07:48:43.757101",
     "status": "completed"
    },
    "tags": []
   },
   "outputs": [
    {
     "name": "stdout",
     "output_type": "stream",
     "text": [
      "\n",
      "Rows and columns has a NaN:\n",
      "        Trades  Deliverable Volume  %Deliverble\n",
      "0          NaN                 NaN          NaN\n",
      "1          NaN                 NaN          NaN\n",
      "2          NaN                 NaN          NaN\n",
      "3          NaN                 NaN          NaN\n",
      "4          NaN                 NaN          NaN\n",
      "...        ...                 ...          ...\n",
      "5301  121028.0           2440395.0       0.6232\n",
      "5302  102250.0           1040749.0       0.5100\n",
      "5303  117425.0           1815110.0       0.5327\n",
      "5304  132826.0           1472924.0       0.4901\n",
      "5305  224454.0           3839105.0       0.6372\n",
      "\n",
      "[5306 rows x 3 columns]\n",
      "\n",
      "Drop rows with any NaNs:\n",
      "            Date Symbol Series  Prev Close     Open     High      Low  \\\n",
      "2850  2011-06-01   HDFC     EQ      684.05   676.55   692.95   676.55   \n",
      "2851  2011-06-02   HDFC     EQ      689.10   681.05   684.70   676.60   \n",
      "2852  2011-06-03   HDFC     EQ      680.00   678.50   683.05   658.25   \n",
      "2853  2011-06-06   HDFC     EQ      660.05   659.95   674.10   659.15   \n",
      "2854  2011-06-07   HDFC     EQ      670.65   668.00   674.65   662.30   \n",
      "...          ...    ...    ...         ...      ...      ...      ...   \n",
      "5301  2021-04-26   HDFC     EQ     2497.35  2500.00  2534.10  2483.20   \n",
      "5302  2021-04-27   HDFC     EQ     2509.80  2494.15  2526.80  2486.25   \n",
      "5303  2021-04-28   HDFC     EQ     2518.40  2516.10  2609.00  2508.30   \n",
      "5304  2021-04-29   HDFC     EQ     2577.00  2590.90  2628.00  2533.00   \n",
      "5305  2021-04-30   HDFC     EQ     2538.85  2503.10  2525.00  2411.10   \n",
      "\n",
      "         Last    Close     VWAP   Volume      Turnover    Trades  \\\n",
      "2850   689.00   689.10   688.38  1204308  8.290230e+13   38210.0   \n",
      "2851   680.25   680.00   680.53  1100046  7.486138e+13   20300.0   \n",
      "2852   659.15   660.05   668.24  2170805  1.450628e+14   33742.0   \n",
      "2853   671.00   670.65   668.56  2854529  1.908411e+14   38749.0   \n",
      "2854   667.35   669.20   669.01  1865334  1.247924e+14   35136.0   \n",
      "...       ...      ...      ...      ...           ...       ...   \n",
      "5301  2502.00  2509.80  2508.07  3916088  9.821805e+14  121028.0   \n",
      "5302  2514.00  2518.40  2509.18  2040799  5.120730e+14  102250.0   \n",
      "5303  2575.00  2577.00  2574.21  3407461  8.771527e+14  117425.0   \n",
      "5304  2539.70  2538.85  2569.65  3005468  7.722995e+14  132826.0   \n",
      "5305  2433.25  2420.10  2445.94  6024595  1.473581e+15  224454.0   \n",
      "\n",
      "      Deliverable Volume  %Deliverble  \n",
      "2850            562346.0       0.4669  \n",
      "2851            637219.0       0.5793  \n",
      "2852           1435985.0       0.6615  \n",
      "2853           2007268.0       0.7032  \n",
      "2854           1207216.0       0.6472  \n",
      "...                  ...          ...  \n",
      "5301           2440395.0       0.6232  \n",
      "5302           1040749.0       0.5100  \n",
      "5303           1815110.0       0.5327  \n",
      "5304           1472924.0       0.4901  \n",
      "5305           3839105.0       0.6372  \n",
      "\n",
      "[2456 rows x 15 columns]\n"
     ]
    }
   ],
   "source": [
    "# Name:- jadav kinjal\n",
    "# Enrollment NO.:- 216270307091\n",
    "# Write a Pandas program to filter all columns where all entries present, check which\n",
    "# rows and columns has a NaN and finally drop rows with any NaNs from the given dataset.\n",
    "import pandas as pd\n",
    "file = pd.read_csv('/kaggle/input/nifty50-stock-market-data/HDFC.csv')\n",
    "print(\"\\nRows and columns has a NaN:\")\n",
    "print(file.loc[:,file.isnull().any()])\n",
    "print(\"\\nDrop rows with any NaNs:\")\n",
    "print(file.dropna(how='any'))  "
   ]
  },
  {
   "cell_type": "code",
   "execution_count": null,
   "id": "6c845017",
   "metadata": {
    "papermill": {
     "duration": 0.00445,
     "end_time": "2023-10-06T07:48:44.302987",
     "exception": false,
     "start_time": "2023-10-06T07:48:44.298537",
     "status": "completed"
    },
    "tags": []
   },
   "outputs": [],
   "source": []
  }
 ],
 "metadata": {
  "kernelspec": {
   "display_name": "Python 3",
   "language": "python",
   "name": "python3"
  },
  "language_info": {
   "codemirror_mode": {
    "name": "ipython",
    "version": 3
   },
   "file_extension": ".py",
   "mimetype": "text/x-python",
   "name": "python",
   "nbconvert_exporter": "python",
   "pygments_lexer": "ipython3",
   "version": "3.10.12"
  },
  "papermill": {
   "default_parameters": {},
   "duration": 4.564617,
   "end_time": "2023-10-06T07:48:44.927136",
   "environment_variables": {},
   "exception": null,
   "input_path": "__notebook__.ipynb",
   "output_path": "__notebook__.ipynb",
   "parameters": {},
   "start_time": "2023-10-06T07:48:40.362519",
   "version": "2.4.0"
  }
 },
 "nbformat": 4,
 "nbformat_minor": 5
}
